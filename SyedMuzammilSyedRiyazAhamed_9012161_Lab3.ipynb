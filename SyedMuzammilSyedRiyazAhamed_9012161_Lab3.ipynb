{
 "cells": [
  {
   "cell_type": "markdown",
   "metadata": {},
   "source": [
    "## **Practical Lab 3 - Vanilla CNN and Fine-Tune VGG16 - for Dogs and Cats Classification**\n",
    "\n",
    "### Name: Syed Muzammil Syed Riyaz Ahamed\n",
    "### Student Id: 9012161\n",
    "### Section: 2"
   ]
  },
  {
   "cell_type": "markdown",
   "metadata": {},
   "source": [
    "### **Objective:**\n",
    "\n",
    "##### In this lab, the goal is to develop and evaluate models that effectively classify images of dogs and cats, leveraging both a custom-designed neural network and transfer learning using a pre-trained model, VGG16. This exercise will help in understanding the process of building and fine-tuning deep learning models on a specific task with proper evaluation and insights into the performance of the model."
   ]
  },
  {
   "cell_type": "markdown",
   "metadata": {},
   "source": [
    "### **Importing Libraries**"
   ]
  },
  {
   "cell_type": "code",
   "execution_count": null,
   "metadata": {},
   "outputs": [],
   "source": [
    "import os, shutil, pathlib"
   ]
  },
  {
   "cell_type": "markdown",
   "metadata": {},
   "source": [
    "### **Getting the Data**\n",
    "\n",
    "#### The dataset can be obtained from:\n",
    "#### [Kaggle - Dogs versus Cats](https://www.kaggle.com/datasets/biaiscience/dogs-vs-cats)"
   ]
  }
 ],
 "metadata": {
  "kernelspec": {
   "display_name": "tensorflow_cpu",
   "language": "python",
   "name": "python3"
  },
  "language_info": {
   "name": "python",
   "version": "3.11.8"
  }
 },
 "nbformat": 4,
 "nbformat_minor": 2
}
